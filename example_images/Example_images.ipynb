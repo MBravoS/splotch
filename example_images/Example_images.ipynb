{
 "cells": [
  {
   "cell_type": "code",
   "execution_count": null,
   "id": "bb73ad3d",
   "metadata": {},
   "outputs": [],
   "source": [
    "import numpy as np\n",
    "import pandas as pd\n",
    "import matplotlib.pyplot as plt\n",
    "import splotch as splt"
   ]
  },
  {
   "cell_type": "code",
   "execution_count": null,
   "id": "1b37a09a",
   "metadata": {},
   "outputs": [],
   "source": [
    "# Create an array with some random distribution\n",
    "rng=np.random.default_rng()\n",
    "xdata = np.concatenate([rng.normal(5.0,2.5,size=10000), rng.normal(8.0,0.5,size=10000)])\n",
    "ydata = np.concatenate([rng.normal(4.0,4.0,size=10000), rng.normal(6.0,4.0,size=10000)])"
   ]
  },
  {
   "cell_type": "code",
   "execution_count": null,
   "id": "e938768d",
   "metadata": {},
   "outputs": [],
   "source": [
    "fig=plt.figure(figsize=(6,6),dpi=200,facecolor='white')\n",
    "splt.hist(xdata,bins=200,xlim=(-4,12),ylim=(0,0.5),dens=True,hist_type='stepfilled',xlabel=\"x data\",\n",
    "          ylabel=\"PDF\",grid=True,edgecolor='k',facecolor='green')\n",
    "\n",
    "plt.savefig('example_hist.png')\n",
    "plt.show()"
   ]
  },
  {
   "cell_type": "code",
   "execution_count": null,
   "id": "dfb68e69",
   "metadata": {},
   "outputs": [],
   "source": [
    "# Create an array with some random distribution\n",
    "xdata = np.concatenate([rng.normal(2.0,2.0,size=1000), rng.normal(8.0,2,size=1000)])\n",
    "ydata = np.concatenate([rng.normal(4.0,6.0,size=1000), rng.normal(6.0,4.0,size=1000)])"
   ]
  },
  {
   "cell_type": "code",
   "execution_count": null,
   "id": "8e37c75a",
   "metadata": {},
   "outputs": [],
   "source": [
    "fig=plt.figure(figsize=(6,6),dpi=200,facecolor='white')\n",
    "\n",
    "splt.scatter(x=xdata, y=ydata, density=True, xlabel=\"x data\", ylabel=\"y data\",\n",
    "             clabel=\"Number density\", cmap='scicm.BgreyY')\n",
    "\n",
    "plt.savefig('example_scatter.png')\n",
    "plt.show()"
   ]
  },
  {
   "cell_type": "code",
   "execution_count": null,
   "id": "5c463afd",
   "metadata": {},
   "outputs": [],
   "source": [
    "# Create an array with some random distribution\n",
    "xdata = np.concatenate([rng.normal(4.0,1.0,size=10000), rng.normal(0.0,3.0,size=10000)])\n",
    "ydata = np.concatenate([rng.normal(4.0,1.5,size=10000), rng.normal(0.0,4.5,size=10000)])"
   ]
  },
  {
   "cell_type": "code",
   "execution_count": null,
   "id": "17ee4aa4",
   "metadata": {},
   "outputs": [],
   "source": [
    "fig=plt.figure(figsize=(6,6),dpi=200,facecolor='white')\n",
    "\n",
    "splt.contourp(xdata, ydata, bins=[50,50], percent=np.arange(10,100,step=10), linestyles='-',\n",
    "              smooth=0.8, cmap='scicm.PgreyG_r', xlim=[-10,10], ylim=[-10,10], lab_loc=2)\n",
    "\n",
    "plt.savefig('example_contours.png')\n",
    "plt.show()"
   ]
  },
  {
   "cell_type": "code",
   "execution_count": null,
   "id": "a3aa7cfa",
   "metadata": {},
   "outputs": [],
   "source": [
    "# Create some mock data\n",
    "ndim = 6 # Number of dimensions in the data\n",
    "nsamples = 10000 # the number of independent samples in, for example, an MCMC chain\n",
    "\n",
    "data1 = rng.standard_normal(ndim * 4 * nsamples // 5).reshape([ 4 * nsamples // 5, ndim])\n",
    "data2 = (4*rng.standard_normal(ndim)[None, :] + rng.standard_normal(ndim * nsamples // 5).reshape([ nsamples // 5, ndim]))\n",
    "\n",
    "data = np.vstack([data1, data2])\n",
    "data = pd.DataFrame(data, columns=['Alpha','Beta','Gamma','Delta','Epsilon','Zeta'])"
   ]
  },
  {
   "cell_type": "code",
   "execution_count": null,
   "id": "ade6c4fc",
   "metadata": {},
   "outputs": [],
   "source": [
    "fig, axes = splt.cornerplot(data,figsize=(12,12),columns=['Alpha','Beta','Delta','Zeta'],\n",
    "                nsamples=5000,pair_type=['hist2D','contour'],\n",
    "                hist_kw=dict(histtype='stepfilled',fc='darkblue',ec='black',linewidth=2,bins=25),\n",
    "                hist2D_kw=dict(bins=30,cmap='scicm.Purple_r'),\n",
    "                contour_kw=dict(percent=np.linspace(15,95,num=7),cmap='scicm.Tropical_r',linestyles='-',smooth=0.6,plabel=False),\n",
    "                           labels=[r'$\\alpha$',r'$\\beta$',r'$\\delta$',r'$\\zeta$'])\n",
    "\n",
    "fig.set_facecolor('white')\n",
    "# Use splotch.adjust_text() to modify the x/y labels and tick labels of all subplots at the same time\n",
    "splt.adjust_text(which='xyk',fontsize=20,ax=axes)\n",
    "\n",
    "plt.tight_layout()\n",
    "plt.savefig('example_cornerplot.png')\n",
    "plt.show()"
   ]
  },
  {
   "cell_type": "code",
   "execution_count": null,
   "id": "2980ff7a",
   "metadata": {},
   "outputs": [],
   "source": []
  }
 ],
 "metadata": {
  "kernelspec": {
   "display_name": "Python 3 (ipykernel)",
   "language": "python",
   "name": "python3"
  },
  "language_info": {
   "codemirror_mode": {
    "name": "ipython",
    "version": 3
   },
   "file_extension": ".py",
   "mimetype": "text/x-python",
   "name": "python",
   "nbconvert_exporter": "python",
   "pygments_lexer": "ipython3",
   "version": "3.9.7"
  }
 },
 "nbformat": 4,
 "nbformat_minor": 5
}
